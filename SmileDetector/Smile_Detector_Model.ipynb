{
 "cells": [
  {
   "cell_type": "code",
   "id": "ab9f9f04-df6c-4387-8b0f-0c2b29a156bc",
   "metadata": {
    "id": "ab9f9f04-df6c-4387-8b0f-0c2b29a156bc",
    "ExecuteTime": {
     "end_time": "2024-11-14T09:00:47.121022Z",
     "start_time": "2024-11-14T09:00:03.985408Z"
    },
    "colab": {
     "base_uri": "https://localhost:8080/"
    },
    "outputId": "13378ff9-36f5-46e1-fa04-48968a939088"
   },
   "source": [
    "import cv2\n",
    "import pickle\n",
    "from keras.utils import image_dataset_from_directory\n",
    "import os\n",
    "os.environ[\"KERAS_BACKEND\"] = \"torch\"\n",
    "import keras\n",
    "import torch\n",
    "device = torch.device(\"cuda\" if torch.cuda.is_available() else \"cpu\")\n",
    "print(\"Using device:\", device)\n",
    "import glob\n",
    "import numpy as np\n",
    "import pandas as pd\n",
    "import matplotlib.pyplot as plt\n"
   ],
   "outputs": [
    {
     "output_type": "stream",
     "name": "stdout",
     "text": [
      "Using device: cuda\n"
     ]
    }
   ],
   "execution_count": 1
  },
  {
   "cell_type": "code",
   "id": "a33424af-557c-475a-9667-674b21817b36",
   "metadata": {
    "id": "a33424af-557c-475a-9667-674b21817b36",
    "ExecuteTime": {
     "end_time": "2024-11-14T08:51:59.868844Z",
     "start_time": "2024-11-14T08:51:59.849829Z"
    }
   },
   "source": [
    "train_pictures_path = r\".\\GENKI-4K Face, Expression, and Pose Dataset\\files\"\n",
    "labeled_pictures_folder = \"labeled_pictures\""
   ],
   "outputs": [],
   "execution_count": 2
  },
  {
   "cell_type": "code",
   "id": "ea031d8d-dfdc-4609-b09f-53820a990061",
   "metadata": {
    "colab": {
     "base_uri": "https://localhost:8080/",
     "height": 53
    },
    "id": "ea031d8d-dfdc-4609-b09f-53820a990061",
    "outputId": "940a3fa1-105f-4799-e328-d915210fcd53",
    "ExecuteTime": {
     "end_time": "2024-11-14T08:52:03.466310Z",
     "start_time": "2024-11-14T08:52:03.058936Z"
    }
   },
   "source": [
    "files = glob.glob(train_pictures_path+r\"\\*\")\n",
    "df_train = pd.DataFrame({'full_path': files})\n",
    "file_name = df_train['full_path'].apply(lambda x: os.path.basename(x))\n",
    "df_train['file_name'] = file_name\n",
    "df_train"
   ],
   "outputs": [
    {
     "data": {
      "text/plain": [
       "                                              full_path     file_name\n",
       "0     .\\GENKI-4K Face, Expression, and Pose Dataset\\...  file0001.jpg\n",
       "1     .\\GENKI-4K Face, Expression, and Pose Dataset\\...  file0002.jpg\n",
       "2     .\\GENKI-4K Face, Expression, and Pose Dataset\\...  file0003.jpg\n",
       "3     .\\GENKI-4K Face, Expression, and Pose Dataset\\...  file0004.jpg\n",
       "4     .\\GENKI-4K Face, Expression, and Pose Dataset\\...  file0005.jpg\n",
       "...                                                 ...           ...\n",
       "3995  .\\GENKI-4K Face, Expression, and Pose Dataset\\...  file3996.jpg\n",
       "3996  .\\GENKI-4K Face, Expression, and Pose Dataset\\...  file3997.jpg\n",
       "3997  .\\GENKI-4K Face, Expression, and Pose Dataset\\...  file3998.jpg\n",
       "3998  .\\GENKI-4K Face, Expression, and Pose Dataset\\...  file3999.jpg\n",
       "3999  .\\GENKI-4K Face, Expression, and Pose Dataset\\...  file4000.jpg\n",
       "\n",
       "[4000 rows x 2 columns]"
      ],
      "text/html": [
       "<div>\n",
       "<style scoped>\n",
       "    .dataframe tbody tr th:only-of-type {\n",
       "        vertical-align: middle;\n",
       "    }\n",
       "\n",
       "    .dataframe tbody tr th {\n",
       "        vertical-align: top;\n",
       "    }\n",
       "\n",
       "    .dataframe thead th {\n",
       "        text-align: right;\n",
       "    }\n",
       "</style>\n",
       "<table border=\"1\" class=\"dataframe\">\n",
       "  <thead>\n",
       "    <tr style=\"text-align: right;\">\n",
       "      <th></th>\n",
       "      <th>full_path</th>\n",
       "      <th>file_name</th>\n",
       "    </tr>\n",
       "  </thead>\n",
       "  <tbody>\n",
       "    <tr>\n",
       "      <th>0</th>\n",
       "      <td>.\\GENKI-4K Face, Expression, and Pose Dataset\\...</td>\n",
       "      <td>file0001.jpg</td>\n",
       "    </tr>\n",
       "    <tr>\n",
       "      <th>1</th>\n",
       "      <td>.\\GENKI-4K Face, Expression, and Pose Dataset\\...</td>\n",
       "      <td>file0002.jpg</td>\n",
       "    </tr>\n",
       "    <tr>\n",
       "      <th>2</th>\n",
       "      <td>.\\GENKI-4K Face, Expression, and Pose Dataset\\...</td>\n",
       "      <td>file0003.jpg</td>\n",
       "    </tr>\n",
       "    <tr>\n",
       "      <th>3</th>\n",
       "      <td>.\\GENKI-4K Face, Expression, and Pose Dataset\\...</td>\n",
       "      <td>file0004.jpg</td>\n",
       "    </tr>\n",
       "    <tr>\n",
       "      <th>4</th>\n",
       "      <td>.\\GENKI-4K Face, Expression, and Pose Dataset\\...</td>\n",
       "      <td>file0005.jpg</td>\n",
       "    </tr>\n",
       "    <tr>\n",
       "      <th>...</th>\n",
       "      <td>...</td>\n",
       "      <td>...</td>\n",
       "    </tr>\n",
       "    <tr>\n",
       "      <th>3995</th>\n",
       "      <td>.\\GENKI-4K Face, Expression, and Pose Dataset\\...</td>\n",
       "      <td>file3996.jpg</td>\n",
       "    </tr>\n",
       "    <tr>\n",
       "      <th>3996</th>\n",
       "      <td>.\\GENKI-4K Face, Expression, and Pose Dataset\\...</td>\n",
       "      <td>file3997.jpg</td>\n",
       "    </tr>\n",
       "    <tr>\n",
       "      <th>3997</th>\n",
       "      <td>.\\GENKI-4K Face, Expression, and Pose Dataset\\...</td>\n",
       "      <td>file3998.jpg</td>\n",
       "    </tr>\n",
       "    <tr>\n",
       "      <th>3998</th>\n",
       "      <td>.\\GENKI-4K Face, Expression, and Pose Dataset\\...</td>\n",
       "      <td>file3999.jpg</td>\n",
       "    </tr>\n",
       "    <tr>\n",
       "      <th>3999</th>\n",
       "      <td>.\\GENKI-4K Face, Expression, and Pose Dataset\\...</td>\n",
       "      <td>file4000.jpg</td>\n",
       "    </tr>\n",
       "  </tbody>\n",
       "</table>\n",
       "<p>4000 rows × 2 columns</p>\n",
       "</div>"
      ]
     },
     "execution_count": 3,
     "metadata": {},
     "output_type": "execute_result"
    }
   ],
   "execution_count": null
  },
  {
   "cell_type": "code",
   "execution_count": null,
   "id": "ab6a8d14-2513-4ef8-a210-fc78cd1a4c8c",
   "metadata": {
    "id": "ab6a8d14-2513-4ef8-a210-fc78cd1a4c8c"
   },
   "outputs": [],
   "source": [
    "# ! pip install opencv-python --upgrade"
   ]
  },
  {
   "cell_type": "code",
   "execution_count": 3,
   "id": "tMS927sNoyiK",
   "metadata": {
    "colab": {
     "base_uri": "https://localhost:8080/"
    },
    "id": "tMS927sNoyiK",
    "outputId": "43f584e2-ddd5-4463-d6dc-f04cc79cffc3"
   },
   "outputs": [
    {
     "output_type": "stream",
     "name": "stdout",
     "text": [
      "Downloading...\n",
      "From (original): https://drive.google.com/uc?id=1aqH0YQHn8pSpWmno8l3CZ8SGsLTRxKXq\n",
      "From (redirected): https://drive.google.com/uc?id=1aqH0YQHn8pSpWmno8l3CZ8SGsLTRxKXq&confirm=t&uuid=aaa3433b-718f-41fc-8761-20f24415e493\n",
      "To: /content/labeled_pictures.zip\n",
      "100% 57.1M/57.1M [00:01<00:00, 55.2MB/s]\n"
     ]
    }
   ],
   "source": [
    "!gdown 1aqH0YQHn8pSpWmno8l3CZ8SGsLTRxKXq"
   ]
  },
  {
   "cell_type": "code",
   "execution_count": 4,
   "id": "9ZVImsYepf8I",
   "metadata": {
    "id": "9ZVImsYepf8I"
   },
   "outputs": [],
   "source": [
    "!unzip labeled_pictures.zip > /dev/null 2>&1"
   ]
  },
  {
   "cell_type": "code",
   "id": "8dd5238c-e554-4cd1-a29f-bc68aaff2ee7",
   "metadata": {
    "colab": {
     "base_uri": "https://localhost:8080/"
    },
    "id": "8dd5238c-e554-4cd1-a29f-bc68aaff2ee7",
    "outputId": "b5a3c9dc-b389-40f2-a0ee-a5d3358d785e",
    "ExecuteTime": {
     "end_time": "2024-11-14T08:52:13.917079Z",
     "start_time": "2024-11-14T08:52:13.892021Z"
    }
   },
   "source": [
    "max_width = 256\n",
    "max_height = 256\n",
    "max_width, max_height"
   ],
   "outputs": [
    {
     "output_type": "execute_result",
     "data": {
      "text/plain": [
       "(256, 256)"
      ]
     },
     "metadata": {},
     "execution_count": 5
    }
   ],
   "execution_count": 5
  },
  {
   "cell_type": "code",
   "id": "082b7280-9dfa-488f-946b-f0cf5cd2fced",
   "metadata": {
    "colab": {
     "base_uri": "https://localhost:8080/"
    },
    "id": "082b7280-9dfa-488f-946b-f0cf5cd2fced",
    "outputId": "48c0eb6c-e753-4af5-91ee-a007c1369ad2",
    "ExecuteTime": {
     "end_time": "2024-11-14T08:52:21.261115Z",
     "start_time": "2024-11-14T08:52:17.702436Z"
    }
   },
   "source": [
    "SEED = 42\n",
    "\n",
    "train_dataset = image_dataset_from_directory(\n",
    "   directory= rf'./{labeled_pictures_folder}/',\n",
    "   labels='inferred',\n",
    "   label_mode='categorical',\n",
    "   color_mode='rgb',\n",
    "   shuffle = True,\n",
    "   subset='training',\n",
    "   validation_split=0.1,\n",
    "   seed=SEED,\n",
    "   batch_size=32,\n",
    "   image_size=(max_width, max_height),\n",
    "   interpolation='bilinear'\n",
    ")\n",
    "\n",
    "class_names = train_dataset.class_names\n",
    "print('Class names:', class_names)\n"
   ],
   "outputs": [
    {
     "output_type": "stream",
     "name": "stdout",
     "text": [
      "Found 4000 files belonging to 2 classes.\n",
      "Using 3600 files for training.\n",
      "Class names: ['0', '1']\n"
     ]
    }
   ],
   "execution_count": 6
  },
  {
   "cell_type": "code",
   "id": "4253001a-6ba0-4951-9a23-26be5b772eac",
   "metadata": {
    "colab": {
     "base_uri": "https://localhost:8080/"
    },
    "id": "4253001a-6ba0-4951-9a23-26be5b772eac",
    "outputId": "2ef79eba-d853-498d-a62a-60f011a851df",
    "ExecuteTime": {
     "end_time": "2024-11-14T08:52:28.001037Z",
     "start_time": "2024-11-14T08:52:27.014746Z"
    }
   },
   "source": [
    "val_dataset = image_dataset_from_directory(\n",
    "   directory = rf'./{labeled_pictures_folder}/',\n",
    "   labels = 'inferred' ,\n",
    "   label_mode = 'categorical',\n",
    "   color_mode ='rgb',\n",
    "   shuffle = True,\n",
    "   subset = 'validation',\n",
    "   validation_split = 0.1,\n",
    "   seed = SEED,\n",
    "   batch_size = 32,\n",
    "   image_size = (max_width, max_height),\n",
    "   interpolation = 'bilinear'\n",
    ")"
   ],
   "outputs": [
    {
     "output_type": "stream",
     "name": "stdout",
     "text": [
      "Found 4000 files belonging to 2 classes.\n",
      "Using 400 files for validation.\n"
     ]
    }
   ],
   "execution_count": 7
  },
  {
   "cell_type": "code",
   "id": "100042ec-b051-4f5a-aafe-9e8746260220",
   "metadata": {
    "id": "100042ec-b051-4f5a-aafe-9e8746260220",
    "ExecuteTime": {
     "end_time": "2024-11-14T08:52:33.646887Z",
     "start_time": "2024-11-14T08:52:33.540889Z"
    }
   },
   "source": [
    "from keras.applications.inception_resnet_v2 import preprocess_input\n",
    "\n",
    "# Preprocess the data\n",
    "train_dataset_preprocess = train_dataset.map(lambda x, y: (preprocess_input(x), y))\n",
    "val_dataset_preprocess = val_dataset.map(lambda x, y: (preprocess_input(x), y))"
   ],
   "outputs": [],
   "execution_count": 8
  },
  {
   "cell_type": "code",
   "id": "11dc0514-c1e6-485e-b58e-fa0bd023be92",
   "metadata": {
    "id": "11dc0514-c1e6-485e-b58e-fa0bd023be92",
    "colab": {
     "base_uri": "https://localhost:8080/"
    },
    "outputId": "c672b523-5ce8-4809-b54b-92224f384d8a",
    "ExecuteTime": {
     "end_time": "2024-11-14T08:52:57.864303Z",
     "start_time": "2024-11-14T08:52:44.997962Z"
    }
   },
   "source": [
    "base_model = keras.applications.InceptionResNetV2(\n",
    "    include_top=False,\n",
    "    weights=\"imagenet\",\n",
    "    input_shape=(max_width, max_height, 3),\n",
    "    # classes=2,\n",
    "    classifier_activation=\"softmax\",\n",
    "    name=\"inception_resnet_v2\"\n",
    ")"
   ],
   "outputs": [
    {
     "output_type": "stream",
     "name": "stdout",
     "text": [
      "Downloading data from https://storage.googleapis.com/tensorflow/keras-applications/inception_resnet_v2/inception_resnet_v2_weights_tf_dim_ordering_tf_kernels_notop.h5\n",
      "\u001B[1m219055592/219055592\u001B[0m \u001B[32m━━━━━━━━━━━━━━━━━━━━\u001B[0m\u001B[37m\u001B[0m \u001B[1m1s\u001B[0m 0us/step\n"
     ]
    }
   ],
   "execution_count": 10
  },
  {
   "cell_type": "code",
   "source": [
    "base_model.layers"
   ],
   "metadata": {
    "ExecuteTime": {
     "end_time": "2024-11-14T08:53:09.063708Z",
     "start_time": "2024-11-14T08:53:09.011335Z"
    },
    "colab": {
     "base_uri": "https://localhost:8080/"
    },
    "id": "5a904d9b7b73118e",
    "outputId": "5d7da4fb-0cda-472b-fa9b-b2416f64861b"
   },
   "id": "5a904d9b7b73118e",
   "outputs": [
    {
     "output_type": "execute_result",
     "data": {
      "text/plain": [
       "[<InputLayer name=input_layer, built=True>,\n",
       " <Conv2D name=conv2d, built=True>,\n",
       " <BatchNormalization name=batch_normalization, built=True>,\n",
       " <Activation name=activation, built=True>,\n",
       " <Conv2D name=conv2d_1, built=True>,\n",
       " <BatchNormalization name=batch_normalization_1, built=True>,\n",
       " <Activation name=activation_1, built=True>,\n",
       " <Conv2D name=conv2d_2, built=True>,\n",
       " <BatchNormalization name=batch_normalization_2, built=True>,\n",
       " <Activation name=activation_2, built=True>,\n",
       " <MaxPooling2D name=max_pooling2d, built=True>,\n",
       " <Conv2D name=conv2d_3, built=True>,\n",
       " <BatchNormalization name=batch_normalization_3, built=True>,\n",
       " <Activation name=activation_3, built=True>,\n",
       " <Conv2D name=conv2d_4, built=True>,\n",
       " <BatchNormalization name=batch_normalization_4, built=True>,\n",
       " <Activation name=activation_4, built=True>,\n",
       " <MaxPooling2D name=max_pooling2d_1, built=True>,\n",
       " <Conv2D name=conv2d_8, built=True>,\n",
       " <BatchNormalization name=batch_normalization_8, built=True>,\n",
       " <Activation name=activation_8, built=True>,\n",
       " <Conv2D name=conv2d_6, built=True>,\n",
       " <Conv2D name=conv2d_9, built=True>,\n",
       " <BatchNormalization name=batch_normalization_6, built=True>,\n",
       " <BatchNormalization name=batch_normalization_9, built=True>,\n",
       " <Activation name=activation_6, built=True>,\n",
       " <Activation name=activation_9, built=True>,\n",
       " <AveragePooling2D name=average_pooling2d, built=True>,\n",
       " <Conv2D name=conv2d_5, built=True>,\n",
       " <Conv2D name=conv2d_7, built=True>,\n",
       " <Conv2D name=conv2d_10, built=True>,\n",
       " <Conv2D name=conv2d_11, built=True>,\n",
       " <BatchNormalization name=batch_normalization_5, built=True>,\n",
       " <BatchNormalization name=batch_normalization_7, built=True>,\n",
       " <BatchNormalization name=batch_normalization_10, built=True>,\n",
       " <BatchNormalization name=batch_normalization_11, built=True>,\n",
       " <Activation name=activation_5, built=True>,\n",
       " <Activation name=activation_7, built=True>,\n",
       " <Activation name=activation_10, built=True>,\n",
       " <Activation name=activation_11, built=True>,\n",
       " <Concatenate name=mixed_5b, built=True>,\n",
       " <Conv2D name=conv2d_15, built=True>,\n",
       " <BatchNormalization name=batch_normalization_15, built=True>,\n",
       " <Activation name=activation_15, built=True>,\n",
       " <Conv2D name=conv2d_13, built=True>,\n",
       " <Conv2D name=conv2d_16, built=True>,\n",
       " <BatchNormalization name=batch_normalization_13, built=True>,\n",
       " <BatchNormalization name=batch_normalization_16, built=True>,\n",
       " <Activation name=activation_13, built=True>,\n",
       " <Activation name=activation_16, built=True>,\n",
       " <Conv2D name=conv2d_12, built=True>,\n",
       " <Conv2D name=conv2d_14, built=True>,\n",
       " <Conv2D name=conv2d_17, built=True>,\n",
       " <BatchNormalization name=batch_normalization_12, built=True>,\n",
       " <BatchNormalization name=batch_normalization_14, built=True>,\n",
       " <BatchNormalization name=batch_normalization_17, built=True>,\n",
       " <Activation name=activation_12, built=True>,\n",
       " <Activation name=activation_14, built=True>,\n",
       " <Activation name=activation_17, built=True>,\n",
       " <Concatenate name=block35_1_mixed, built=True>,\n",
       " <Conv2D name=block35_1_conv, built=True>,\n",
       " <CustomScaleLayer name=custom_scale_layer, built=True>,\n",
       " <Activation name=block35_1_ac, built=True>,\n",
       " <Conv2D name=conv2d_21, built=True>,\n",
       " <BatchNormalization name=batch_normalization_21, built=True>,\n",
       " <Activation name=activation_21, built=True>,\n",
       " <Conv2D name=conv2d_19, built=True>,\n",
       " <Conv2D name=conv2d_22, built=True>,\n",
       " <BatchNormalization name=batch_normalization_19, built=True>,\n",
       " <BatchNormalization name=batch_normalization_22, built=True>,\n",
       " <Activation name=activation_19, built=True>,\n",
       " <Activation name=activation_22, built=True>,\n",
       " <Conv2D name=conv2d_18, built=True>,\n",
       " <Conv2D name=conv2d_20, built=True>,\n",
       " <Conv2D name=conv2d_23, built=True>,\n",
       " <BatchNormalization name=batch_normalization_18, built=True>,\n",
       " <BatchNormalization name=batch_normalization_20, built=True>,\n",
       " <BatchNormalization name=batch_normalization_23, built=True>,\n",
       " <Activation name=activation_18, built=True>,\n",
       " <Activation name=activation_20, built=True>,\n",
       " <Activation name=activation_23, built=True>,\n",
       " <Concatenate name=block35_2_mixed, built=True>,\n",
       " <Conv2D name=block35_2_conv, built=True>,\n",
       " <CustomScaleLayer name=custom_scale_layer_1, built=True>,\n",
       " <Activation name=block35_2_ac, built=True>,\n",
       " <Conv2D name=conv2d_27, built=True>,\n",
       " <BatchNormalization name=batch_normalization_27, built=True>,\n",
       " <Activation name=activation_27, built=True>,\n",
       " <Conv2D name=conv2d_25, built=True>,\n",
       " <Conv2D name=conv2d_28, built=True>,\n",
       " <BatchNormalization name=batch_normalization_25, built=True>,\n",
       " <BatchNormalization name=batch_normalization_28, built=True>,\n",
       " <Activation name=activation_25, built=True>,\n",
       " <Activation name=activation_28, built=True>,\n",
       " <Conv2D name=conv2d_24, built=True>,\n",
       " <Conv2D name=conv2d_26, built=True>,\n",
       " <Conv2D name=conv2d_29, built=True>,\n",
       " <BatchNormalization name=batch_normalization_24, built=True>,\n",
       " <BatchNormalization name=batch_normalization_26, built=True>,\n",
       " <BatchNormalization name=batch_normalization_29, built=True>,\n",
       " <Activation name=activation_24, built=True>,\n",
       " <Activation name=activation_26, built=True>,\n",
       " <Activation name=activation_29, built=True>,\n",
       " <Concatenate name=block35_3_mixed, built=True>,\n",
       " <Conv2D name=block35_3_conv, built=True>,\n",
       " <CustomScaleLayer name=custom_scale_layer_2, built=True>,\n",
       " <Activation name=block35_3_ac, built=True>,\n",
       " <Conv2D name=conv2d_33, built=True>,\n",
       " <BatchNormalization name=batch_normalization_33, built=True>,\n",
       " <Activation name=activation_33, built=True>,\n",
       " <Conv2D name=conv2d_31, built=True>,\n",
       " <Conv2D name=conv2d_34, built=True>,\n",
       " <BatchNormalization name=batch_normalization_31, built=True>,\n",
       " <BatchNormalization name=batch_normalization_34, built=True>,\n",
       " <Activation name=activation_31, built=True>,\n",
       " <Activation name=activation_34, built=True>,\n",
       " <Conv2D name=conv2d_30, built=True>,\n",
       " <Conv2D name=conv2d_32, built=True>,\n",
       " <Conv2D name=conv2d_35, built=True>,\n",
       " <BatchNormalization name=batch_normalization_30, built=True>,\n",
       " <BatchNormalization name=batch_normalization_32, built=True>,\n",
       " <BatchNormalization name=batch_normalization_35, built=True>,\n",
       " <Activation name=activation_30, built=True>,\n",
       " <Activation name=activation_32, built=True>,\n",
       " <Activation name=activation_35, built=True>,\n",
       " <Concatenate name=block35_4_mixed, built=True>,\n",
       " <Conv2D name=block35_4_conv, built=True>,\n",
       " <CustomScaleLayer name=custom_scale_layer_3, built=True>,\n",
       " <Activation name=block35_4_ac, built=True>,\n",
       " <Conv2D name=conv2d_39, built=True>,\n",
       " <BatchNormalization name=batch_normalization_39, built=True>,\n",
       " <Activation name=activation_39, built=True>,\n",
       " <Conv2D name=conv2d_37, built=True>,\n",
       " <Conv2D name=conv2d_40, built=True>,\n",
       " <BatchNormalization name=batch_normalization_37, built=True>,\n",
       " <BatchNormalization name=batch_normalization_40, built=True>,\n",
       " <Activation name=activation_37, built=True>,\n",
       " <Activation name=activation_40, built=True>,\n",
       " <Conv2D name=conv2d_36, built=True>,\n",
       " <Conv2D name=conv2d_38, built=True>,\n",
       " <Conv2D name=conv2d_41, built=True>,\n",
       " <BatchNormalization name=batch_normalization_36, built=True>,\n",
       " <BatchNormalization name=batch_normalization_38, built=True>,\n",
       " <BatchNormalization name=batch_normalization_41, built=True>,\n",
       " <Activation name=activation_36, built=True>,\n",
       " <Activation name=activation_38, built=True>,\n",
       " <Activation name=activation_41, built=True>,\n",
       " <Concatenate name=block35_5_mixed, built=True>,\n",
       " <Conv2D name=block35_5_conv, built=True>,\n",
       " <CustomScaleLayer name=custom_scale_layer_4, built=True>,\n",
       " <Activation name=block35_5_ac, built=True>,\n",
       " <Conv2D name=conv2d_45, built=True>,\n",
       " <BatchNormalization name=batch_normalization_45, built=True>,\n",
       " <Activation name=activation_45, built=True>,\n",
       " <Conv2D name=conv2d_43, built=True>,\n",
       " <Conv2D name=conv2d_46, built=True>,\n",
       " <BatchNormalization name=batch_normalization_43, built=True>,\n",
       " <BatchNormalization name=batch_normalization_46, built=True>,\n",
       " <Activation name=activation_43, built=True>,\n",
       " <Activation name=activation_46, built=True>,\n",
       " <Conv2D name=conv2d_42, built=True>,\n",
       " <Conv2D name=conv2d_44, built=True>,\n",
       " <Conv2D name=conv2d_47, built=True>,\n",
       " <BatchNormalization name=batch_normalization_42, built=True>,\n",
       " <BatchNormalization name=batch_normalization_44, built=True>,\n",
       " <BatchNormalization name=batch_normalization_47, built=True>,\n",
       " <Activation name=activation_42, built=True>,\n",
       " <Activation name=activation_44, built=True>,\n",
       " <Activation name=activation_47, built=True>,\n",
       " <Concatenate name=block35_6_mixed, built=True>,\n",
       " <Conv2D name=block35_6_conv, built=True>,\n",
       " <CustomScaleLayer name=custom_scale_layer_5, built=True>,\n",
       " <Activation name=block35_6_ac, built=True>,\n",
       " <Conv2D name=conv2d_51, built=True>,\n",
       " <BatchNormalization name=batch_normalization_51, built=True>,\n",
       " <Activation name=activation_51, built=True>,\n",
       " <Conv2D name=conv2d_49, built=True>,\n",
       " <Conv2D name=conv2d_52, built=True>,\n",
       " <BatchNormalization name=batch_normalization_49, built=True>,\n",
       " <BatchNormalization name=batch_normalization_52, built=True>,\n",
       " <Activation name=activation_49, built=True>,\n",
       " <Activation name=activation_52, built=True>,\n",
       " <Conv2D name=conv2d_48, built=True>,\n",
       " <Conv2D name=conv2d_50, built=True>,\n",
       " <Conv2D name=conv2d_53, built=True>,\n",
       " <BatchNormalization name=batch_normalization_48, built=True>,\n",
       " <BatchNormalization name=batch_normalization_50, built=True>,\n",
       " <BatchNormalization name=batch_normalization_53, built=True>,\n",
       " <Activation name=activation_48, built=True>,\n",
       " <Activation name=activation_50, built=True>,\n",
       " <Activation name=activation_53, built=True>,\n",
       " <Concatenate name=block35_7_mixed, built=True>,\n",
       " <Conv2D name=block35_7_conv, built=True>,\n",
       " <CustomScaleLayer name=custom_scale_layer_6, built=True>,\n",
       " <Activation name=block35_7_ac, built=True>,\n",
       " <Conv2D name=conv2d_57, built=True>,\n",
       " <BatchNormalization name=batch_normalization_57, built=True>,\n",
       " <Activation name=activation_57, built=True>,\n",
       " <Conv2D name=conv2d_55, built=True>,\n",
       " <Conv2D name=conv2d_58, built=True>,\n",
       " <BatchNormalization name=batch_normalization_55, built=True>,\n",
       " <BatchNormalization name=batch_normalization_58, built=True>,\n",
       " <Activation name=activation_55, built=True>,\n",
       " <Activation name=activation_58, built=True>,\n",
       " <Conv2D name=conv2d_54, built=True>,\n",
       " <Conv2D name=conv2d_56, built=True>,\n",
       " <Conv2D name=conv2d_59, built=True>,\n",
       " <BatchNormalization name=batch_normalization_54, built=True>,\n",
       " <BatchNormalization name=batch_normalization_56, built=True>,\n",
       " <BatchNormalization name=batch_normalization_59, built=True>,\n",
       " <Activation name=activation_54, built=True>,\n",
       " <Activation name=activation_56, built=True>,\n",
       " <Activation name=activation_59, built=True>,\n",
       " <Concatenate name=block35_8_mixed, built=True>,\n",
       " <Conv2D name=block35_8_conv, built=True>,\n",
       " <CustomScaleLayer name=custom_scale_layer_7, built=True>,\n",
       " <Activation name=block35_8_ac, built=True>,\n",
       " <Conv2D name=conv2d_63, built=True>,\n",
       " <BatchNormalization name=batch_normalization_63, built=True>,\n",
       " <Activation name=activation_63, built=True>,\n",
       " <Conv2D name=conv2d_61, built=True>,\n",
       " <Conv2D name=conv2d_64, built=True>,\n",
       " <BatchNormalization name=batch_normalization_61, built=True>,\n",
       " <BatchNormalization name=batch_normalization_64, built=True>,\n",
       " <Activation name=activation_61, built=True>,\n",
       " <Activation name=activation_64, built=True>,\n",
       " <Conv2D name=conv2d_60, built=True>,\n",
       " <Conv2D name=conv2d_62, built=True>,\n",
       " <Conv2D name=conv2d_65, built=True>,\n",
       " <BatchNormalization name=batch_normalization_60, built=True>,\n",
       " <BatchNormalization name=batch_normalization_62, built=True>,\n",
       " <BatchNormalization name=batch_normalization_65, built=True>,\n",
       " <Activation name=activation_60, built=True>,\n",
       " <Activation name=activation_62, built=True>,\n",
       " <Activation name=activation_65, built=True>,\n",
       " <Concatenate name=block35_9_mixed, built=True>,\n",
       " <Conv2D name=block35_9_conv, built=True>,\n",
       " <CustomScaleLayer name=custom_scale_layer_8, built=True>,\n",
       " <Activation name=block35_9_ac, built=True>,\n",
       " <Conv2D name=conv2d_69, built=True>,\n",
       " <BatchNormalization name=batch_normalization_69, built=True>,\n",
       " <Activation name=activation_69, built=True>,\n",
       " <Conv2D name=conv2d_67, built=True>,\n",
       " <Conv2D name=conv2d_70, built=True>,\n",
       " <BatchNormalization name=batch_normalization_67, built=True>,\n",
       " <BatchNormalization name=batch_normalization_70, built=True>,\n",
       " <Activation name=activation_67, built=True>,\n",
       " <Activation name=activation_70, built=True>,\n",
       " <Conv2D name=conv2d_66, built=True>,\n",
       " <Conv2D name=conv2d_68, built=True>,\n",
       " <Conv2D name=conv2d_71, built=True>,\n",
       " <BatchNormalization name=batch_normalization_66, built=True>,\n",
       " <BatchNormalization name=batch_normalization_68, built=True>,\n",
       " <BatchNormalization name=batch_normalization_71, built=True>,\n",
       " <Activation name=activation_66, built=True>,\n",
       " <Activation name=activation_68, built=True>,\n",
       " <Activation name=activation_71, built=True>,\n",
       " <Concatenate name=block35_10_mixed, built=True>,\n",
       " <Conv2D name=block35_10_conv, built=True>,\n",
       " <CustomScaleLayer name=custom_scale_layer_9, built=True>,\n",
       " <Activation name=block35_10_ac, built=True>,\n",
       " <Conv2D name=conv2d_73, built=True>,\n",
       " <BatchNormalization name=batch_normalization_73, built=True>,\n",
       " <Activation name=activation_73, built=True>,\n",
       " <Conv2D name=conv2d_74, built=True>,\n",
       " <BatchNormalization name=batch_normalization_74, built=True>,\n",
       " <Activation name=activation_74, built=True>,\n",
       " <Conv2D name=conv2d_72, built=True>,\n",
       " <Conv2D name=conv2d_75, built=True>,\n",
       " <BatchNormalization name=batch_normalization_72, built=True>,\n",
       " <BatchNormalization name=batch_normalization_75, built=True>,\n",
       " <Activation name=activation_72, built=True>,\n",
       " <Activation name=activation_75, built=True>,\n",
       " <MaxPooling2D name=max_pooling2d_2, built=True>,\n",
       " <Concatenate name=mixed_6a, built=True>,\n",
       " <Conv2D name=conv2d_77, built=True>,\n",
       " <BatchNormalization name=batch_normalization_77, built=True>,\n",
       " <Activation name=activation_77, built=True>,\n",
       " <Conv2D name=conv2d_78, built=True>,\n",
       " <BatchNormalization name=batch_normalization_78, built=True>,\n",
       " <Activation name=activation_78, built=True>,\n",
       " <Conv2D name=conv2d_76, built=True>,\n",
       " <Conv2D name=conv2d_79, built=True>,\n",
       " <BatchNormalization name=batch_normalization_76, built=True>,\n",
       " <BatchNormalization name=batch_normalization_79, built=True>,\n",
       " <Activation name=activation_76, built=True>,\n",
       " <Activation name=activation_79, built=True>,\n",
       " <Concatenate name=block17_1_mixed, built=True>,\n",
       " <Conv2D name=block17_1_conv, built=True>,\n",
       " <CustomScaleLayer name=custom_scale_layer_10, built=True>,\n",
       " <Activation name=block17_1_ac, built=True>,\n",
       " <Conv2D name=conv2d_81, built=True>,\n",
       " <BatchNormalization name=batch_normalization_81, built=True>,\n",
       " <Activation name=activation_81, built=True>,\n",
       " <Conv2D name=conv2d_82, built=True>,\n",
       " <BatchNormalization name=batch_normalization_82, built=True>,\n",
       " <Activation name=activation_82, built=True>,\n",
       " <Conv2D name=conv2d_80, built=True>,\n",
       " <Conv2D name=conv2d_83, built=True>,\n",
       " <BatchNormalization name=batch_normalization_80, built=True>,\n",
       " <BatchNormalization name=batch_normalization_83, built=True>,\n",
       " <Activation name=activation_80, built=True>,\n",
       " <Activation name=activation_83, built=True>,\n",
       " <Concatenate name=block17_2_mixed, built=True>,\n",
       " <Conv2D name=block17_2_conv, built=True>,\n",
       " <CustomScaleLayer name=custom_scale_layer_11, built=True>,\n",
       " <Activation name=block17_2_ac, built=True>,\n",
       " <Conv2D name=conv2d_85, built=True>,\n",
       " <BatchNormalization name=batch_normalization_85, built=True>,\n",
       " <Activation name=activation_85, built=True>,\n",
       " <Conv2D name=conv2d_86, built=True>,\n",
       " <BatchNormalization name=batch_normalization_86, built=True>,\n",
       " <Activation name=activation_86, built=True>,\n",
       " <Conv2D name=conv2d_84, built=True>,\n",
       " <Conv2D name=conv2d_87, built=True>,\n",
       " <BatchNormalization name=batch_normalization_84, built=True>,\n",
       " <BatchNormalization name=batch_normalization_87, built=True>,\n",
       " <Activation name=activation_84, built=True>,\n",
       " <Activation name=activation_87, built=True>,\n",
       " <Concatenate name=block17_3_mixed, built=True>,\n",
       " <Conv2D name=block17_3_conv, built=True>,\n",
       " <CustomScaleLayer name=custom_scale_layer_12, built=True>,\n",
       " <Activation name=block17_3_ac, built=True>,\n",
       " <Conv2D name=conv2d_89, built=True>,\n",
       " <BatchNormalization name=batch_normalization_89, built=True>,\n",
       " <Activation name=activation_89, built=True>,\n",
       " <Conv2D name=conv2d_90, built=True>,\n",
       " <BatchNormalization name=batch_normalization_90, built=True>,\n",
       " <Activation name=activation_90, built=True>,\n",
       " <Conv2D name=conv2d_88, built=True>,\n",
       " <Conv2D name=conv2d_91, built=True>,\n",
       " <BatchNormalization name=batch_normalization_88, built=True>,\n",
       " <BatchNormalization name=batch_normalization_91, built=True>,\n",
       " <Activation name=activation_88, built=True>,\n",
       " <Activation name=activation_91, built=True>,\n",
       " <Concatenate name=block17_4_mixed, built=True>,\n",
       " <Conv2D name=block17_4_conv, built=True>,\n",
       " <CustomScaleLayer name=custom_scale_layer_13, built=True>,\n",
       " <Activation name=block17_4_ac, built=True>,\n",
       " <Conv2D name=conv2d_93, built=True>,\n",
       " <BatchNormalization name=batch_normalization_93, built=True>,\n",
       " <Activation name=activation_93, built=True>,\n",
       " <Conv2D name=conv2d_94, built=True>,\n",
       " <BatchNormalization name=batch_normalization_94, built=True>,\n",
       " <Activation name=activation_94, built=True>,\n",
       " <Conv2D name=conv2d_92, built=True>,\n",
       " <Conv2D name=conv2d_95, built=True>,\n",
       " <BatchNormalization name=batch_normalization_92, built=True>,\n",
       " <BatchNormalization name=batch_normalization_95, built=True>,\n",
       " <Activation name=activation_92, built=True>,\n",
       " <Activation name=activation_95, built=True>,\n",
       " <Concatenate name=block17_5_mixed, built=True>,\n",
       " <Conv2D name=block17_5_conv, built=True>,\n",
       " <CustomScaleLayer name=custom_scale_layer_14, built=True>,\n",
       " <Activation name=block17_5_ac, built=True>,\n",
       " <Conv2D name=conv2d_97, built=True>,\n",
       " <BatchNormalization name=batch_normalization_97, built=True>,\n",
       " <Activation name=activation_97, built=True>,\n",
       " <Conv2D name=conv2d_98, built=True>,\n",
       " <BatchNormalization name=batch_normalization_98, built=True>,\n",
       " <Activation name=activation_98, built=True>,\n",
       " <Conv2D name=conv2d_96, built=True>,\n",
       " <Conv2D name=conv2d_99, built=True>,\n",
       " <BatchNormalization name=batch_normalization_96, built=True>,\n",
       " <BatchNormalization name=batch_normalization_99, built=True>,\n",
       " <Activation name=activation_96, built=True>,\n",
       " <Activation name=activation_99, built=True>,\n",
       " <Concatenate name=block17_6_mixed, built=True>,\n",
       " <Conv2D name=block17_6_conv, built=True>,\n",
       " <CustomScaleLayer name=custom_scale_layer_15, built=True>,\n",
       " <Activation name=block17_6_ac, built=True>,\n",
       " <Conv2D name=conv2d_101, built=True>,\n",
       " <BatchNormalization name=batch_normalization_101, built=True>,\n",
       " <Activation name=activation_101, built=True>,\n",
       " <Conv2D name=conv2d_102, built=True>,\n",
       " <BatchNormalization name=batch_normalization_102, built=True>,\n",
       " <Activation name=activation_102, built=True>,\n",
       " <Conv2D name=conv2d_100, built=True>,\n",
       " <Conv2D name=conv2d_103, built=True>,\n",
       " <BatchNormalization name=batch_normalization_100, built=True>,\n",
       " <BatchNormalization name=batch_normalization_103, built=True>,\n",
       " <Activation name=activation_100, built=True>,\n",
       " <Activation name=activation_103, built=True>,\n",
       " <Concatenate name=block17_7_mixed, built=True>,\n",
       " <Conv2D name=block17_7_conv, built=True>,\n",
       " <CustomScaleLayer name=custom_scale_layer_16, built=True>,\n",
       " <Activation name=block17_7_ac, built=True>,\n",
       " <Conv2D name=conv2d_105, built=True>,\n",
       " <BatchNormalization name=batch_normalization_105, built=True>,\n",
       " <Activation name=activation_105, built=True>,\n",
       " <Conv2D name=conv2d_106, built=True>,\n",
       " <BatchNormalization name=batch_normalization_106, built=True>,\n",
       " <Activation name=activation_106, built=True>,\n",
       " <Conv2D name=conv2d_104, built=True>,\n",
       " <Conv2D name=conv2d_107, built=True>,\n",
       " <BatchNormalization name=batch_normalization_104, built=True>,\n",
       " <BatchNormalization name=batch_normalization_107, built=True>,\n",
       " <Activation name=activation_104, built=True>,\n",
       " <Activation name=activation_107, built=True>,\n",
       " <Concatenate name=block17_8_mixed, built=True>,\n",
       " <Conv2D name=block17_8_conv, built=True>,\n",
       " <CustomScaleLayer name=custom_scale_layer_17, built=True>,\n",
       " <Activation name=block17_8_ac, built=True>,\n",
       " <Conv2D name=conv2d_109, built=True>,\n",
       " <BatchNormalization name=batch_normalization_109, built=True>,\n",
       " <Activation name=activation_109, built=True>,\n",
       " <Conv2D name=conv2d_110, built=True>,\n",
       " <BatchNormalization name=batch_normalization_110, built=True>,\n",
       " <Activation name=activation_110, built=True>,\n",
       " <Conv2D name=conv2d_108, built=True>,\n",
       " <Conv2D name=conv2d_111, built=True>,\n",
       " <BatchNormalization name=batch_normalization_108, built=True>,\n",
       " <BatchNormalization name=batch_normalization_111, built=True>,\n",
       " <Activation name=activation_108, built=True>,\n",
       " <Activation name=activation_111, built=True>,\n",
       " <Concatenate name=block17_9_mixed, built=True>,\n",
       " <Conv2D name=block17_9_conv, built=True>,\n",
       " <CustomScaleLayer name=custom_scale_layer_18, built=True>,\n",
       " <Activation name=block17_9_ac, built=True>,\n",
       " <Conv2D name=conv2d_113, built=True>,\n",
       " <BatchNormalization name=batch_normalization_113, built=True>,\n",
       " <Activation name=activation_113, built=True>,\n",
       " <Conv2D name=conv2d_114, built=True>,\n",
       " <BatchNormalization name=batch_normalization_114, built=True>,\n",
       " <Activation name=activation_114, built=True>,\n",
       " <Conv2D name=conv2d_112, built=True>,\n",
       " <Conv2D name=conv2d_115, built=True>,\n",
       " <BatchNormalization name=batch_normalization_112, built=True>,\n",
       " <BatchNormalization name=batch_normalization_115, built=True>,\n",
       " <Activation name=activation_112, built=True>,\n",
       " <Activation name=activation_115, built=True>,\n",
       " <Concatenate name=block17_10_mixed, built=True>,\n",
       " <Conv2D name=block17_10_conv, built=True>,\n",
       " <CustomScaleLayer name=custom_scale_layer_19, built=True>,\n",
       " <Activation name=block17_10_ac, built=True>,\n",
       " <Conv2D name=conv2d_117, built=True>,\n",
       " <BatchNormalization name=batch_normalization_117, built=True>,\n",
       " <Activation name=activation_117, built=True>,\n",
       " <Conv2D name=conv2d_118, built=True>,\n",
       " <BatchNormalization name=batch_normalization_118, built=True>,\n",
       " <Activation name=activation_118, built=True>,\n",
       " <Conv2D name=conv2d_116, built=True>,\n",
       " <Conv2D name=conv2d_119, built=True>,\n",
       " <BatchNormalization name=batch_normalization_116, built=True>,\n",
       " <BatchNormalization name=batch_normalization_119, built=True>,\n",
       " <Activation name=activation_116, built=True>,\n",
       " <Activation name=activation_119, built=True>,\n",
       " <Concatenate name=block17_11_mixed, built=True>,\n",
       " <Conv2D name=block17_11_conv, built=True>,\n",
       " <CustomScaleLayer name=custom_scale_layer_20, built=True>,\n",
       " <Activation name=block17_11_ac, built=True>,\n",
       " <Conv2D name=conv2d_121, built=True>,\n",
       " <BatchNormalization name=batch_normalization_121, built=True>,\n",
       " <Activation name=activation_121, built=True>,\n",
       " <Conv2D name=conv2d_122, built=True>,\n",
       " <BatchNormalization name=batch_normalization_122, built=True>,\n",
       " <Activation name=activation_122, built=True>,\n",
       " <Conv2D name=conv2d_120, built=True>,\n",
       " <Conv2D name=conv2d_123, built=True>,\n",
       " <BatchNormalization name=batch_normalization_120, built=True>,\n",
       " <BatchNormalization name=batch_normalization_123, built=True>,\n",
       " <Activation name=activation_120, built=True>,\n",
       " <Activation name=activation_123, built=True>,\n",
       " <Concatenate name=block17_12_mixed, built=True>,\n",
       " <Conv2D name=block17_12_conv, built=True>,\n",
       " <CustomScaleLayer name=custom_scale_layer_21, built=True>,\n",
       " <Activation name=block17_12_ac, built=True>,\n",
       " <Conv2D name=conv2d_125, built=True>,\n",
       " <BatchNormalization name=batch_normalization_125, built=True>,\n",
       " <Activation name=activation_125, built=True>,\n",
       " <Conv2D name=conv2d_126, built=True>,\n",
       " <BatchNormalization name=batch_normalization_126, built=True>,\n",
       " <Activation name=activation_126, built=True>,\n",
       " <Conv2D name=conv2d_124, built=True>,\n",
       " <Conv2D name=conv2d_127, built=True>,\n",
       " <BatchNormalization name=batch_normalization_124, built=True>,\n",
       " <BatchNormalization name=batch_normalization_127, built=True>,\n",
       " <Activation name=activation_124, built=True>,\n",
       " <Activation name=activation_127, built=True>,\n",
       " <Concatenate name=block17_13_mixed, built=True>,\n",
       " <Conv2D name=block17_13_conv, built=True>,\n",
       " <CustomScaleLayer name=custom_scale_layer_22, built=True>,\n",
       " <Activation name=block17_13_ac, built=True>,\n",
       " <Conv2D name=conv2d_129, built=True>,\n",
       " <BatchNormalization name=batch_normalization_129, built=True>,\n",
       " <Activation name=activation_129, built=True>,\n",
       " <Conv2D name=conv2d_130, built=True>,\n",
       " <BatchNormalization name=batch_normalization_130, built=True>,\n",
       " <Activation name=activation_130, built=True>,\n",
       " <Conv2D name=conv2d_128, built=True>,\n",
       " <Conv2D name=conv2d_131, built=True>,\n",
       " <BatchNormalization name=batch_normalization_128, built=True>,\n",
       " <BatchNormalization name=batch_normalization_131, built=True>,\n",
       " <Activation name=activation_128, built=True>,\n",
       " <Activation name=activation_131, built=True>,\n",
       " <Concatenate name=block17_14_mixed, built=True>,\n",
       " <Conv2D name=block17_14_conv, built=True>,\n",
       " <CustomScaleLayer name=custom_scale_layer_23, built=True>,\n",
       " <Activation name=block17_14_ac, built=True>,\n",
       " <Conv2D name=conv2d_133, built=True>,\n",
       " <BatchNormalization name=batch_normalization_133, built=True>,\n",
       " <Activation name=activation_133, built=True>,\n",
       " <Conv2D name=conv2d_134, built=True>,\n",
       " <BatchNormalization name=batch_normalization_134, built=True>,\n",
       " <Activation name=activation_134, built=True>,\n",
       " <Conv2D name=conv2d_132, built=True>,\n",
       " <Conv2D name=conv2d_135, built=True>,\n",
       " <BatchNormalization name=batch_normalization_132, built=True>,\n",
       " <BatchNormalization name=batch_normalization_135, built=True>,\n",
       " <Activation name=activation_132, built=True>,\n",
       " <Activation name=activation_135, built=True>,\n",
       " <Concatenate name=block17_15_mixed, built=True>,\n",
       " <Conv2D name=block17_15_conv, built=True>,\n",
       " <CustomScaleLayer name=custom_scale_layer_24, built=True>,\n",
       " <Activation name=block17_15_ac, built=True>,\n",
       " <Conv2D name=conv2d_137, built=True>,\n",
       " <BatchNormalization name=batch_normalization_137, built=True>,\n",
       " <Activation name=activation_137, built=True>,\n",
       " <Conv2D name=conv2d_138, built=True>,\n",
       " <BatchNormalization name=batch_normalization_138, built=True>,\n",
       " <Activation name=activation_138, built=True>,\n",
       " <Conv2D name=conv2d_136, built=True>,\n",
       " <Conv2D name=conv2d_139, built=True>,\n",
       " <BatchNormalization name=batch_normalization_136, built=True>,\n",
       " <BatchNormalization name=batch_normalization_139, built=True>,\n",
       " <Activation name=activation_136, built=True>,\n",
       " <Activation name=activation_139, built=True>,\n",
       " <Concatenate name=block17_16_mixed, built=True>,\n",
       " <Conv2D name=block17_16_conv, built=True>,\n",
       " <CustomScaleLayer name=custom_scale_layer_25, built=True>,\n",
       " <Activation name=block17_16_ac, built=True>,\n",
       " <Conv2D name=conv2d_141, built=True>,\n",
       " <BatchNormalization name=batch_normalization_141, built=True>,\n",
       " <Activation name=activation_141, built=True>,\n",
       " <Conv2D name=conv2d_142, built=True>,\n",
       " <BatchNormalization name=batch_normalization_142, built=True>,\n",
       " <Activation name=activation_142, built=True>,\n",
       " <Conv2D name=conv2d_140, built=True>,\n",
       " <Conv2D name=conv2d_143, built=True>,\n",
       " <BatchNormalization name=batch_normalization_140, built=True>,\n",
       " <BatchNormalization name=batch_normalization_143, built=True>,\n",
       " <Activation name=activation_140, built=True>,\n",
       " <Activation name=activation_143, built=True>,\n",
       " <Concatenate name=block17_17_mixed, built=True>,\n",
       " <Conv2D name=block17_17_conv, built=True>,\n",
       " <CustomScaleLayer name=custom_scale_layer_26, built=True>,\n",
       " <Activation name=block17_17_ac, built=True>,\n",
       " <Conv2D name=conv2d_145, built=True>,\n",
       " <BatchNormalization name=batch_normalization_145, built=True>,\n",
       " <Activation name=activation_145, built=True>,\n",
       " <Conv2D name=conv2d_146, built=True>,\n",
       " <BatchNormalization name=batch_normalization_146, built=True>,\n",
       " <Activation name=activation_146, built=True>,\n",
       " <Conv2D name=conv2d_144, built=True>,\n",
       " <Conv2D name=conv2d_147, built=True>,\n",
       " <BatchNormalization name=batch_normalization_144, built=True>,\n",
       " <BatchNormalization name=batch_normalization_147, built=True>,\n",
       " <Activation name=activation_144, built=True>,\n",
       " <Activation name=activation_147, built=True>,\n",
       " <Concatenate name=block17_18_mixed, built=True>,\n",
       " <Conv2D name=block17_18_conv, built=True>,\n",
       " <CustomScaleLayer name=custom_scale_layer_27, built=True>,\n",
       " <Activation name=block17_18_ac, built=True>,\n",
       " <Conv2D name=conv2d_149, built=True>,\n",
       " <BatchNormalization name=batch_normalization_149, built=True>,\n",
       " <Activation name=activation_149, built=True>,\n",
       " <Conv2D name=conv2d_150, built=True>,\n",
       " <BatchNormalization name=batch_normalization_150, built=True>,\n",
       " <Activation name=activation_150, built=True>,\n",
       " <Conv2D name=conv2d_148, built=True>,\n",
       " <Conv2D name=conv2d_151, built=True>,\n",
       " <BatchNormalization name=batch_normalization_148, built=True>,\n",
       " <BatchNormalization name=batch_normalization_151, built=True>,\n",
       " <Activation name=activation_148, built=True>,\n",
       " <Activation name=activation_151, built=True>,\n",
       " <Concatenate name=block17_19_mixed, built=True>,\n",
       " <Conv2D name=block17_19_conv, built=True>,\n",
       " <CustomScaleLayer name=custom_scale_layer_28, built=True>,\n",
       " <Activation name=block17_19_ac, built=True>,\n",
       " <Conv2D name=conv2d_153, built=True>,\n",
       " <BatchNormalization name=batch_normalization_153, built=True>,\n",
       " <Activation name=activation_153, built=True>,\n",
       " <Conv2D name=conv2d_154, built=True>,\n",
       " <BatchNormalization name=batch_normalization_154, built=True>,\n",
       " <Activation name=activation_154, built=True>,\n",
       " <Conv2D name=conv2d_152, built=True>,\n",
       " <Conv2D name=conv2d_155, built=True>,\n",
       " <BatchNormalization name=batch_normalization_152, built=True>,\n",
       " <BatchNormalization name=batch_normalization_155, built=True>,\n",
       " <Activation name=activation_152, built=True>,\n",
       " <Activation name=activation_155, built=True>,\n",
       " <Concatenate name=block17_20_mixed, built=True>,\n",
       " <Conv2D name=block17_20_conv, built=True>,\n",
       " <CustomScaleLayer name=custom_scale_layer_29, built=True>,\n",
       " <Activation name=block17_20_ac, built=True>,\n",
       " <Conv2D name=conv2d_160, built=True>,\n",
       " <BatchNormalization name=batch_normalization_160, built=True>,\n",
       " <Activation name=activation_160, built=True>,\n",
       " <Conv2D name=conv2d_156, built=True>,\n",
       " <Conv2D name=conv2d_158, built=True>,\n",
       " <Conv2D name=conv2d_161, built=True>,\n",
       " <BatchNormalization name=batch_normalization_156, built=True>,\n",
       " <BatchNormalization name=batch_normalization_158, built=True>,\n",
       " <BatchNormalization name=batch_normalization_161, built=True>,\n",
       " <Activation name=activation_156, built=True>,\n",
       " <Activation name=activation_158, built=True>,\n",
       " <Activation name=activation_161, built=True>,\n",
       " <Conv2D name=conv2d_157, built=True>,\n",
       " <Conv2D name=conv2d_159, built=True>,\n",
       " <Conv2D name=conv2d_162, built=True>,\n",
       " <BatchNormalization name=batch_normalization_157, built=True>,\n",
       " <BatchNormalization name=batch_normalization_159, built=True>,\n",
       " <BatchNormalization name=batch_normalization_162, built=True>,\n",
       " <Activation name=activation_157, built=True>,\n",
       " <Activation name=activation_159, built=True>,\n",
       " <Activation name=activation_162, built=True>,\n",
       " <MaxPooling2D name=max_pooling2d_3, built=True>,\n",
       " <Concatenate name=mixed_7a, built=True>,\n",
       " <Conv2D name=conv2d_164, built=True>,\n",
       " <BatchNormalization name=batch_normalization_164, built=True>,\n",
       " <Activation name=activation_164, built=True>,\n",
       " <Conv2D name=conv2d_165, built=True>,\n",
       " <BatchNormalization name=batch_normalization_165, built=True>,\n",
       " <Activation name=activation_165, built=True>,\n",
       " <Conv2D name=conv2d_163, built=True>,\n",
       " <Conv2D name=conv2d_166, built=True>,\n",
       " <BatchNormalization name=batch_normalization_163, built=True>,\n",
       " <BatchNormalization name=batch_normalization_166, built=True>,\n",
       " <Activation name=activation_163, built=True>,\n",
       " <Activation name=activation_166, built=True>,\n",
       " <Concatenate name=block8_1_mixed, built=True>,\n",
       " <Conv2D name=block8_1_conv, built=True>,\n",
       " <CustomScaleLayer name=custom_scale_layer_30, built=True>,\n",
       " <Activation name=block8_1_ac, built=True>,\n",
       " <Conv2D name=conv2d_168, built=True>,\n",
       " <BatchNormalization name=batch_normalization_168, built=True>,\n",
       " <Activation name=activation_168, built=True>,\n",
       " <Conv2D name=conv2d_169, built=True>,\n",
       " <BatchNormalization name=batch_normalization_169, built=True>,\n",
       " <Activation name=activation_169, built=True>,\n",
       " <Conv2D name=conv2d_167, built=True>,\n",
       " <Conv2D name=conv2d_170, built=True>,\n",
       " <BatchNormalization name=batch_normalization_167, built=True>,\n",
       " <BatchNormalization name=batch_normalization_170, built=True>,\n",
       " <Activation name=activation_167, built=True>,\n",
       " <Activation name=activation_170, built=True>,\n",
       " <Concatenate name=block8_2_mixed, built=True>,\n",
       " <Conv2D name=block8_2_conv, built=True>,\n",
       " <CustomScaleLayer name=custom_scale_layer_31, built=True>,\n",
       " <Activation name=block8_2_ac, built=True>,\n",
       " <Conv2D name=conv2d_172, built=True>,\n",
       " <BatchNormalization name=batch_normalization_172, built=True>,\n",
       " <Activation name=activation_172, built=True>,\n",
       " <Conv2D name=conv2d_173, built=True>,\n",
       " <BatchNormalization name=batch_normalization_173, built=True>,\n",
       " <Activation name=activation_173, built=True>,\n",
       " <Conv2D name=conv2d_171, built=True>,\n",
       " <Conv2D name=conv2d_174, built=True>,\n",
       " <BatchNormalization name=batch_normalization_171, built=True>,\n",
       " <BatchNormalization name=batch_normalization_174, built=True>,\n",
       " <Activation name=activation_171, built=True>,\n",
       " <Activation name=activation_174, built=True>,\n",
       " <Concatenate name=block8_3_mixed, built=True>,\n",
       " <Conv2D name=block8_3_conv, built=True>,\n",
       " <CustomScaleLayer name=custom_scale_layer_32, built=True>,\n",
       " <Activation name=block8_3_ac, built=True>,\n",
       " <Conv2D name=conv2d_176, built=True>,\n",
       " <BatchNormalization name=batch_normalization_176, built=True>,\n",
       " <Activation name=activation_176, built=True>,\n",
       " <Conv2D name=conv2d_177, built=True>,\n",
       " <BatchNormalization name=batch_normalization_177, built=True>,\n",
       " <Activation name=activation_177, built=True>,\n",
       " <Conv2D name=conv2d_175, built=True>,\n",
       " <Conv2D name=conv2d_178, built=True>,\n",
       " <BatchNormalization name=batch_normalization_175, built=True>,\n",
       " <BatchNormalization name=batch_normalization_178, built=True>,\n",
       " <Activation name=activation_175, built=True>,\n",
       " <Activation name=activation_178, built=True>,\n",
       " <Concatenate name=block8_4_mixed, built=True>,\n",
       " <Conv2D name=block8_4_conv, built=True>,\n",
       " <CustomScaleLayer name=custom_scale_layer_33, built=True>,\n",
       " <Activation name=block8_4_ac, built=True>,\n",
       " <Conv2D name=conv2d_180, built=True>,\n",
       " <BatchNormalization name=batch_normalization_180, built=True>,\n",
       " <Activation name=activation_180, built=True>,\n",
       " <Conv2D name=conv2d_181, built=True>,\n",
       " <BatchNormalization name=batch_normalization_181, built=True>,\n",
       " <Activation name=activation_181, built=True>,\n",
       " <Conv2D name=conv2d_179, built=True>,\n",
       " <Conv2D name=conv2d_182, built=True>,\n",
       " <BatchNormalization name=batch_normalization_179, built=True>,\n",
       " <BatchNormalization name=batch_normalization_182, built=True>,\n",
       " <Activation name=activation_179, built=True>,\n",
       " <Activation name=activation_182, built=True>,\n",
       " <Concatenate name=block8_5_mixed, built=True>,\n",
       " <Conv2D name=block8_5_conv, built=True>,\n",
       " <CustomScaleLayer name=custom_scale_layer_34, built=True>,\n",
       " <Activation name=block8_5_ac, built=True>,\n",
       " <Conv2D name=conv2d_184, built=True>,\n",
       " <BatchNormalization name=batch_normalization_184, built=True>,\n",
       " <Activation name=activation_184, built=True>,\n",
       " <Conv2D name=conv2d_185, built=True>,\n",
       " <BatchNormalization name=batch_normalization_185, built=True>,\n",
       " <Activation name=activation_185, built=True>,\n",
       " <Conv2D name=conv2d_183, built=True>,\n",
       " <Conv2D name=conv2d_186, built=True>,\n",
       " <BatchNormalization name=batch_normalization_183, built=True>,\n",
       " <BatchNormalization name=batch_normalization_186, built=True>,\n",
       " <Activation name=activation_183, built=True>,\n",
       " <Activation name=activation_186, built=True>,\n",
       " <Concatenate name=block8_6_mixed, built=True>,\n",
       " <Conv2D name=block8_6_conv, built=True>,\n",
       " <CustomScaleLayer name=custom_scale_layer_35, built=True>,\n",
       " <Activation name=block8_6_ac, built=True>,\n",
       " <Conv2D name=conv2d_188, built=True>,\n",
       " <BatchNormalization name=batch_normalization_188, built=True>,\n",
       " <Activation name=activation_188, built=True>,\n",
       " <Conv2D name=conv2d_189, built=True>,\n",
       " <BatchNormalization name=batch_normalization_189, built=True>,\n",
       " <Activation name=activation_189, built=True>,\n",
       " <Conv2D name=conv2d_187, built=True>,\n",
       " <Conv2D name=conv2d_190, built=True>,\n",
       " <BatchNormalization name=batch_normalization_187, built=True>,\n",
       " <BatchNormalization name=batch_normalization_190, built=True>,\n",
       " <Activation name=activation_187, built=True>,\n",
       " <Activation name=activation_190, built=True>,\n",
       " <Concatenate name=block8_7_mixed, built=True>,\n",
       " <Conv2D name=block8_7_conv, built=True>,\n",
       " <CustomScaleLayer name=custom_scale_layer_36, built=True>,\n",
       " <Activation name=block8_7_ac, built=True>,\n",
       " <Conv2D name=conv2d_192, built=True>,\n",
       " <BatchNormalization name=batch_normalization_192, built=True>,\n",
       " <Activation name=activation_192, built=True>,\n",
       " <Conv2D name=conv2d_193, built=True>,\n",
       " <BatchNormalization name=batch_normalization_193, built=True>,\n",
       " <Activation name=activation_193, built=True>,\n",
       " <Conv2D name=conv2d_191, built=True>,\n",
       " <Conv2D name=conv2d_194, built=True>,\n",
       " <BatchNormalization name=batch_normalization_191, built=True>,\n",
       " <BatchNormalization name=batch_normalization_194, built=True>,\n",
       " <Activation name=activation_191, built=True>,\n",
       " <Activation name=activation_194, built=True>,\n",
       " <Concatenate name=block8_8_mixed, built=True>,\n",
       " <Conv2D name=block8_8_conv, built=True>,\n",
       " <CustomScaleLayer name=custom_scale_layer_37, built=True>,\n",
       " <Activation name=block8_8_ac, built=True>,\n",
       " <Conv2D name=conv2d_196, built=True>,\n",
       " <BatchNormalization name=batch_normalization_196, built=True>,\n",
       " <Activation name=activation_196, built=True>,\n",
       " <Conv2D name=conv2d_197, built=True>,\n",
       " <BatchNormalization name=batch_normalization_197, built=True>,\n",
       " <Activation name=activation_197, built=True>,\n",
       " <Conv2D name=conv2d_195, built=True>,\n",
       " <Conv2D name=conv2d_198, built=True>,\n",
       " <BatchNormalization name=batch_normalization_195, built=True>,\n",
       " <BatchNormalization name=batch_normalization_198, built=True>,\n",
       " <Activation name=activation_195, built=True>,\n",
       " <Activation name=activation_198, built=True>,\n",
       " <Concatenate name=block8_9_mixed, built=True>,\n",
       " <Conv2D name=block8_9_conv, built=True>,\n",
       " <CustomScaleLayer name=custom_scale_layer_38, built=True>,\n",
       " <Activation name=block8_9_ac, built=True>,\n",
       " <Conv2D name=conv2d_200, built=True>,\n",
       " <BatchNormalization name=batch_normalization_200, built=True>,\n",
       " <Activation name=activation_200, built=True>,\n",
       " <Conv2D name=conv2d_201, built=True>,\n",
       " <BatchNormalization name=batch_normalization_201, built=True>,\n",
       " <Activation name=activation_201, built=True>,\n",
       " <Conv2D name=conv2d_199, built=True>,\n",
       " <Conv2D name=conv2d_202, built=True>,\n",
       " <BatchNormalization name=batch_normalization_199, built=True>,\n",
       " <BatchNormalization name=batch_normalization_202, built=True>,\n",
       " <Activation name=activation_199, built=True>,\n",
       " <Activation name=activation_202, built=True>,\n",
       " <Concatenate name=block8_10_mixed, built=True>,\n",
       " <Conv2D name=block8_10_conv, built=True>,\n",
       " <CustomScaleLayer name=custom_scale_layer_39, built=True>,\n",
       " <Conv2D name=conv_7b, built=True>,\n",
       " <BatchNormalization name=conv_7b_bn, built=True>,\n",
       " <Activation name=conv_7b_ac, built=True>]"
      ]
     },
     "metadata": {},
     "execution_count": 11
    }
   ],
   "execution_count": 11
  },
  {
   "cell_type": "code",
   "source": [
    "len(base_model.layers)"
   ],
   "metadata": {
    "colab": {
     "base_uri": "https://localhost:8080/"
    },
    "id": "D9CQknMWIkHw",
    "outputId": "9a97ce34-4317-41fc-f1be-7f3af1c874ef",
    "ExecuteTime": {
     "end_time": "2024-11-14T08:53:12.510958Z",
     "start_time": "2024-11-14T08:53:12.484156Z"
    }
   },
   "id": "D9CQknMWIkHw",
   "outputs": [
    {
     "output_type": "execute_result",
     "data": {
      "text/plain": [
       "780"
      ]
     },
     "metadata": {},
     "execution_count": 12
    }
   ],
   "execution_count": 12
  },
  {
   "cell_type": "code",
   "source": [
    "len(base_model.trainable_variables)"
   ],
   "metadata": {
    "colab": {
     "base_uri": "https://localhost:8080/"
    },
    "id": "oUrg6ZJvIrNH",
    "outputId": "7bc8e38f-fd9d-4746-deaf-634658fd05cd",
    "ExecuteTime": {
     "end_time": "2024-11-14T08:53:14.097180Z",
     "start_time": "2024-11-14T08:53:14.072173Z"
    }
   },
   "id": "oUrg6ZJvIrNH",
   "outputs": [
    {
     "output_type": "execute_result",
     "data": {
      "text/plain": [
       "488"
      ]
     },
     "metadata": {},
     "execution_count": 13
    }
   ],
   "execution_count": 13
  },
  {
   "cell_type": "code",
   "source": [
    "fine_tune_at = 200\n",
    "\n",
    "# Freeze all the layers before the `fine_tune_at` layer\n",
    "for layer in base_model.layers[:fine_tune_at]:\n",
    "  layer.trainable = False\n",
    "for layer in base_model.layers[fine_tune_at:]:\n",
    "  layer.trainable = True"
   ],
   "metadata": {
    "id": "y4DI5uDTNkIZ",
    "ExecuteTime": {
     "end_time": "2024-11-14T08:53:20.700737Z",
     "start_time": "2024-11-14T08:53:20.663781Z"
    }
   },
   "id": "y4DI5uDTNkIZ",
   "outputs": [],
   "execution_count": 17
  },
  {
   "cell_type": "code",
   "source": [
    "len(base_model.layers)"
   ],
   "metadata": {
    "colab": {
     "base_uri": "https://localhost:8080/"
    },
    "id": "5EfahL2UNtPi",
    "outputId": "957f85bd-8d1f-44e6-9125-938c0bf9cf05",
    "ExecuteTime": {
     "end_time": "2024-11-14T08:53:23.848872Z",
     "start_time": "2024-11-14T08:53:23.821285Z"
    }
   },
   "id": "5EfahL2UNtPi",
   "outputs": [
    {
     "output_type": "execute_result",
     "data": {
      "text/plain": [
       "780"
      ]
     },
     "metadata": {},
     "execution_count": 18
    }
   ],
   "execution_count": 18
  },
  {
   "cell_type": "code",
   "source": [
    "len(base_model.trainable_variables)"
   ],
   "metadata": {
    "colab": {
     "base_uri": "https://localhost:8080/"
    },
    "id": "p93RUwy1NvSF",
    "outputId": "2890d7a7-e08c-49ee-e5cc-a68856998e93",
    "ExecuteTime": {
     "end_time": "2024-11-14T08:53:26.996220Z",
     "start_time": "2024-11-14T08:53:26.982675Z"
    }
   },
   "id": "p93RUwy1NvSF",
   "outputs": [
    {
     "output_type": "execute_result",
     "data": {
      "text/plain": [
       "362"
      ]
     },
     "metadata": {},
     "execution_count": 19
    }
   ],
   "execution_count": 19
  },
  {
   "cell_type": "code",
   "source": [
    "inputs = keras.Input(shape=(max_width, max_height, 3))\n",
    "x = base_model(inputs)\n",
    "x = keras.layers.Flatten()(x)\n",
    "x = keras.layers.Dense(64,activation='relu')(x)\n",
    "x = keras.layers.Dropout(0.3)(x)\n",
    "x = keras.layers.Dense(128,activation='relu')(x)\n",
    "x = keras.layers.Dropout(0.3)(x)\n",
    "outputs = keras.layers.Dense(2, activation='softmax')(x)\n",
    "\n",
    "model = keras.models.Model(inputs, outputs)"
   ],
   "metadata": {
    "id": "d-ncecuxI1k2",
    "ExecuteTime": {
     "end_time": "2024-11-14T08:53:29.111127Z",
     "start_time": "2024-11-14T08:53:29.003801Z"
    }
   },
   "id": "d-ncecuxI1k2",
   "outputs": [],
   "execution_count": 20
  },
  {
   "cell_type": "code",
   "id": "Px7AkZjurpa9",
   "metadata": {
    "colab": {
     "base_uri": "https://localhost:8080/",
     "height": 437
    },
    "id": "Px7AkZjurpa9",
    "outputId": "bc594c4b-356e-47cb-a638-7c43f6a04cc8",
    "ExecuteTime": {
     "end_time": "2024-11-14T08:53:54.482355Z",
     "start_time": "2024-11-14T08:53:54.365742Z"
    }
   },
   "source": [
    "print(model.summary())"
   ],
   "outputs": [
    {
     "output_type": "display_data",
     "data": {
      "text/plain": [
       "\u001B[1mModel: \"functional\"\u001B[0m\n"
      ],
      "text/html": [
       "<pre style=\"white-space:pre;overflow-x:auto;line-height:normal;font-family:Menlo,'DejaVu Sans Mono',consolas,'Courier New',monospace\"><span style=\"font-weight: bold\">Model: \"functional\"</span>\n",
       "</pre>\n"
      ]
     },
     "metadata": {}
    },
    {
     "output_type": "display_data",
     "data": {
      "text/plain": [
       "┏━━━━━━━━━━━━━━━━━━━━━━━━━━━━━━━━━━━━━━┳━━━━━━━━━━━━━━━━━━━━━━━━━━━━━┳━━━━━━━━━━━━━━━━━┓\n",
       "┃\u001B[1m \u001B[0m\u001B[1mLayer (type)                        \u001B[0m\u001B[1m \u001B[0m┃\u001B[1m \u001B[0m\u001B[1mOutput Shape               \u001B[0m\u001B[1m \u001B[0m┃\u001B[1m \u001B[0m\u001B[1m        Param #\u001B[0m\u001B[1m \u001B[0m┃\n",
       "┡━━━━━━━━━━━━━━━━━━━━━━━━━━━━━━━━━━━━━━╇━━━━━━━━━━━━━━━━━━━━━━━━━━━━━╇━━━━━━━━━━━━━━━━━┩\n",
       "│ input_layer_1 (\u001B[38;5;33mInputLayer\u001B[0m)           │ (\u001B[38;5;45mNone\u001B[0m, \u001B[38;5;34m256\u001B[0m, \u001B[38;5;34m256\u001B[0m, \u001B[38;5;34m3\u001B[0m)         │               \u001B[38;5;34m0\u001B[0m │\n",
       "├──────────────────────────────────────┼─────────────────────────────┼─────────────────┤\n",
       "│ inception_resnet_v2 (\u001B[38;5;33mFunctional\u001B[0m)     │ (\u001B[38;5;45mNone\u001B[0m, \u001B[38;5;34m6\u001B[0m, \u001B[38;5;34m6\u001B[0m, \u001B[38;5;34m1536\u001B[0m)          │      \u001B[38;5;34m54,336,736\u001B[0m │\n",
       "├──────────────────────────────────────┼─────────────────────────────┼─────────────────┤\n",
       "│ flatten (\u001B[38;5;33mFlatten\u001B[0m)                    │ (\u001B[38;5;45mNone\u001B[0m, \u001B[38;5;34m55296\u001B[0m)               │               \u001B[38;5;34m0\u001B[0m │\n",
       "├──────────────────────────────────────┼─────────────────────────────┼─────────────────┤\n",
       "│ dense (\u001B[38;5;33mDense\u001B[0m)                        │ (\u001B[38;5;45mNone\u001B[0m, \u001B[38;5;34m64\u001B[0m)                  │       \u001B[38;5;34m3,539,008\u001B[0m │\n",
       "├──────────────────────────────────────┼─────────────────────────────┼─────────────────┤\n",
       "│ dropout (\u001B[38;5;33mDropout\u001B[0m)                    │ (\u001B[38;5;45mNone\u001B[0m, \u001B[38;5;34m64\u001B[0m)                  │               \u001B[38;5;34m0\u001B[0m │\n",
       "├──────────────────────────────────────┼─────────────────────────────┼─────────────────┤\n",
       "│ dense_1 (\u001B[38;5;33mDense\u001B[0m)                      │ (\u001B[38;5;45mNone\u001B[0m, \u001B[38;5;34m128\u001B[0m)                 │           \u001B[38;5;34m8,320\u001B[0m │\n",
       "├──────────────────────────────────────┼─────────────────────────────┼─────────────────┤\n",
       "│ dropout_1 (\u001B[38;5;33mDropout\u001B[0m)                  │ (\u001B[38;5;45mNone\u001B[0m, \u001B[38;5;34m128\u001B[0m)                 │               \u001B[38;5;34m0\u001B[0m │\n",
       "├──────────────────────────────────────┼─────────────────────────────┼─────────────────┤\n",
       "│ dense_2 (\u001B[38;5;33mDense\u001B[0m)                      │ (\u001B[38;5;45mNone\u001B[0m, \u001B[38;5;34m2\u001B[0m)                   │             \u001B[38;5;34m258\u001B[0m │\n",
       "└──────────────────────────────────────┴─────────────────────────────┴─────────────────┘\n"
      ],
      "text/html": [
       "<pre style=\"white-space:pre;overflow-x:auto;line-height:normal;font-family:Menlo,'DejaVu Sans Mono',consolas,'Courier New',monospace\">┏━━━━━━━━━━━━━━━━━━━━━━━━━━━━━━━━━━━━━━┳━━━━━━━━━━━━━━━━━━━━━━━━━━━━━┳━━━━━━━━━━━━━━━━━┓\n",
       "┃<span style=\"font-weight: bold\"> Layer (type)                         </span>┃<span style=\"font-weight: bold\"> Output Shape                </span>┃<span style=\"font-weight: bold\">         Param # </span>┃\n",
       "┡━━━━━━━━━━━━━━━━━━━━━━━━━━━━━━━━━━━━━━╇━━━━━━━━━━━━━━━━━━━━━━━━━━━━━╇━━━━━━━━━━━━━━━━━┩\n",
       "│ input_layer_1 (<span style=\"color: #0087ff; text-decoration-color: #0087ff\">InputLayer</span>)           │ (<span style=\"color: #00d7ff; text-decoration-color: #00d7ff\">None</span>, <span style=\"color: #00af00; text-decoration-color: #00af00\">256</span>, <span style=\"color: #00af00; text-decoration-color: #00af00\">256</span>, <span style=\"color: #00af00; text-decoration-color: #00af00\">3</span>)         │               <span style=\"color: #00af00; text-decoration-color: #00af00\">0</span> │\n",
       "├──────────────────────────────────────┼─────────────────────────────┼─────────────────┤\n",
       "│ inception_resnet_v2 (<span style=\"color: #0087ff; text-decoration-color: #0087ff\">Functional</span>)     │ (<span style=\"color: #00d7ff; text-decoration-color: #00d7ff\">None</span>, <span style=\"color: #00af00; text-decoration-color: #00af00\">6</span>, <span style=\"color: #00af00; text-decoration-color: #00af00\">6</span>, <span style=\"color: #00af00; text-decoration-color: #00af00\">1536</span>)          │      <span style=\"color: #00af00; text-decoration-color: #00af00\">54,336,736</span> │\n",
       "├──────────────────────────────────────┼─────────────────────────────┼─────────────────┤\n",
       "│ flatten (<span style=\"color: #0087ff; text-decoration-color: #0087ff\">Flatten</span>)                    │ (<span style=\"color: #00d7ff; text-decoration-color: #00d7ff\">None</span>, <span style=\"color: #00af00; text-decoration-color: #00af00\">55296</span>)               │               <span style=\"color: #00af00; text-decoration-color: #00af00\">0</span> │\n",
       "├──────────────────────────────────────┼─────────────────────────────┼─────────────────┤\n",
       "│ dense (<span style=\"color: #0087ff; text-decoration-color: #0087ff\">Dense</span>)                        │ (<span style=\"color: #00d7ff; text-decoration-color: #00d7ff\">None</span>, <span style=\"color: #00af00; text-decoration-color: #00af00\">64</span>)                  │       <span style=\"color: #00af00; text-decoration-color: #00af00\">3,539,008</span> │\n",
       "├──────────────────────────────────────┼─────────────────────────────┼─────────────────┤\n",
       "│ dropout (<span style=\"color: #0087ff; text-decoration-color: #0087ff\">Dropout</span>)                    │ (<span style=\"color: #00d7ff; text-decoration-color: #00d7ff\">None</span>, <span style=\"color: #00af00; text-decoration-color: #00af00\">64</span>)                  │               <span style=\"color: #00af00; text-decoration-color: #00af00\">0</span> │\n",
       "├──────────────────────────────────────┼─────────────────────────────┼─────────────────┤\n",
       "│ dense_1 (<span style=\"color: #0087ff; text-decoration-color: #0087ff\">Dense</span>)                      │ (<span style=\"color: #00d7ff; text-decoration-color: #00d7ff\">None</span>, <span style=\"color: #00af00; text-decoration-color: #00af00\">128</span>)                 │           <span style=\"color: #00af00; text-decoration-color: #00af00\">8,320</span> │\n",
       "├──────────────────────────────────────┼─────────────────────────────┼─────────────────┤\n",
       "│ dropout_1 (<span style=\"color: #0087ff; text-decoration-color: #0087ff\">Dropout</span>)                  │ (<span style=\"color: #00d7ff; text-decoration-color: #00d7ff\">None</span>, <span style=\"color: #00af00; text-decoration-color: #00af00\">128</span>)                 │               <span style=\"color: #00af00; text-decoration-color: #00af00\">0</span> │\n",
       "├──────────────────────────────────────┼─────────────────────────────┼─────────────────┤\n",
       "│ dense_2 (<span style=\"color: #0087ff; text-decoration-color: #0087ff\">Dense</span>)                      │ (<span style=\"color: #00d7ff; text-decoration-color: #00d7ff\">None</span>, <span style=\"color: #00af00; text-decoration-color: #00af00\">2</span>)                   │             <span style=\"color: #00af00; text-decoration-color: #00af00\">258</span> │\n",
       "└──────────────────────────────────────┴─────────────────────────────┴─────────────────┘\n",
       "</pre>\n"
      ]
     },
     "metadata": {}
    },
    {
     "output_type": "display_data",
     "data": {
      "text/plain": [
       "\u001B[1m Total params: \u001B[0m\u001B[38;5;34m57,884,322\u001B[0m (220.81 MB)\n"
      ],
      "text/html": [
       "<pre style=\"white-space:pre;overflow-x:auto;line-height:normal;font-family:Menlo,'DejaVu Sans Mono',consolas,'Courier New',monospace\"><span style=\"font-weight: bold\"> Total params: </span><span style=\"color: #00af00; text-decoration-color: #00af00\">57,884,322</span> (220.81 MB)\n",
       "</pre>\n"
      ]
     },
     "metadata": {}
    },
    {
     "output_type": "display_data",
     "data": {
      "text/plain": [
       "\u001B[1m Trainable params: \u001B[0m\u001B[38;5;34m56,488,882\u001B[0m (215.49 MB)\n"
      ],
      "text/html": [
       "<pre style=\"white-space:pre;overflow-x:auto;line-height:normal;font-family:Menlo,'DejaVu Sans Mono',consolas,'Courier New',monospace\"><span style=\"font-weight: bold\"> Trainable params: </span><span style=\"color: #00af00; text-decoration-color: #00af00\">56,488,882</span> (215.49 MB)\n",
       "</pre>\n"
      ]
     },
     "metadata": {}
    },
    {
     "output_type": "display_data",
     "data": {
      "text/plain": [
       "\u001B[1m Non-trainable params: \u001B[0m\u001B[38;5;34m1,395,440\u001B[0m (5.32 MB)\n"
      ],
      "text/html": [
       "<pre style=\"white-space:pre;overflow-x:auto;line-height:normal;font-family:Menlo,'DejaVu Sans Mono',consolas,'Courier New',monospace\"><span style=\"font-weight: bold\"> Non-trainable params: </span><span style=\"color: #00af00; text-decoration-color: #00af00\">1,395,440</span> (5.32 MB)\n",
       "</pre>\n"
      ]
     },
     "metadata": {}
    },
    {
     "output_type": "stream",
     "name": "stdout",
     "text": [
      "None\n"
     ]
    }
   ],
   "execution_count": 21
  },
  {
   "cell_type": "code",
   "id": "FhRZuU4iru7H",
   "metadata": {
    "id": "FhRZuU4iru7H",
    "ExecuteTime": {
     "end_time": "2024-11-14T08:54:04.605893Z",
     "start_time": "2024-11-14T08:54:04.565655Z"
    }
   },
   "source": [
    "model.compile(\n",
    "    optimizer='adam', loss='categorical_crossentropy', metrics=['accuracy', 'precision', 'recall'] # TODO\n",
    ")"
   ],
   "outputs": [],
   "execution_count": 22
  },
  {
   "cell_type": "code",
   "id": "KFm8mH1csBCB",
   "metadata": {
    "colab": {
     "base_uri": "https://localhost:8080/"
    },
    "id": "KFm8mH1csBCB",
    "outputId": "512dd2c4-395a-4918-e958-83449d59bf8d",
    "ExecuteTime": {
     "end_time": "2024-11-14T08:57:36.327749Z",
     "start_time": "2024-11-14T08:54:08.909142Z"
    }
   },
   "source": [
    "early_stopping_cb = keras.callbacks.EarlyStopping(patience=8, restore_best_weights=True, monitor='val_accuracy')\n",
    "history = model.fit(\n",
    "   train_dataset_preprocess,\n",
    "   epochs=100,\n",
    "   validation_data=val_dataset_preprocess,\n",
    "   callbacks=[early_stopping_cb]\n",
    ")"
   ],
   "outputs": [
    {
     "output_type": "stream",
     "name": "stdout",
     "text": [
      "Epoch 1/100\n",
      "\u001B[1m113/113\u001B[0m \u001B[32m━━━━━━━━━━━━━━━━━━━━\u001B[0m\u001B[37m\u001B[0m \u001B[1m287s\u001B[0m 1s/step - accuracy: 0.6238 - loss: 1.0156 - precision: 0.6238 - recall: 0.6238 - val_accuracy: 0.8625 - val_loss: 0.9170 - val_precision: 0.8625 - val_recall: 0.8625\n",
      "Epoch 2/100\n",
      "\u001B[1m113/113\u001B[0m \u001B[32m━━━━━━━━━━━━━━━━━━━━\u001B[0m\u001B[37m\u001B[0m \u001B[1m103s\u001B[0m 568ms/step - accuracy: 0.8990 - loss: 0.3522 - precision: 0.8990 - recall: 0.8990 - val_accuracy: 0.9225 - val_loss: 4.2456 - val_precision: 0.9225 - val_recall: 0.9225\n",
      "Epoch 3/100\n",
      "\u001B[1m113/113\u001B[0m \u001B[32m━━━━━━━━━━━━━━━━━━━━\u001B[0m\u001B[37m\u001B[0m \u001B[1m64s\u001B[0m 569ms/step - accuracy: 0.9177 - loss: 0.2426 - precision: 0.9177 - recall: 0.9177 - val_accuracy: 0.9250 - val_loss: 0.2349 - val_precision: 0.9250 - val_recall: 0.9250\n",
      "Epoch 4/100\n",
      "\u001B[1m113/113\u001B[0m \u001B[32m━━━━━━━━━━━━━━━━━━━━\u001B[0m\u001B[37m\u001B[0m \u001B[1m65s\u001B[0m 571ms/step - accuracy: 0.9460 - loss: 0.1648 - precision: 0.9460 - recall: 0.9460 - val_accuracy: 0.9425 - val_loss: 0.2187 - val_precision: 0.9425 - val_recall: 0.9425\n",
      "Epoch 5/100\n",
      "\u001B[1m113/113\u001B[0m \u001B[32m━━━━━━━━━━━━━━━━━━━━\u001B[0m\u001B[37m\u001B[0m \u001B[1m64s\u001B[0m 570ms/step - accuracy: 0.9518 - loss: 0.1213 - precision: 0.9518 - recall: 0.9518 - val_accuracy: 0.9300 - val_loss: 0.2720 - val_precision: 0.9300 - val_recall: 0.9300\n",
      "Epoch 6/100\n",
      "\u001B[1m113/113\u001B[0m \u001B[32m━━━━━━━━━━━━━━━━━━━━\u001B[0m\u001B[37m\u001B[0m \u001B[1m64s\u001B[0m 570ms/step - accuracy: 0.9597 - loss: 0.1038 - precision: 0.9597 - recall: 0.9597 - val_accuracy: 0.9375 - val_loss: 0.2269 - val_precision: 0.9375 - val_recall: 0.9375\n",
      "Epoch 7/100\n",
      "\u001B[1m113/113\u001B[0m \u001B[32m━━━━━━━━━━━━━━━━━━━━\u001B[0m\u001B[37m\u001B[0m \u001B[1m83s\u001B[0m 575ms/step - accuracy: 0.9767 - loss: 0.0640 - precision: 0.9767 - recall: 0.9767 - val_accuracy: 0.8975 - val_loss: 0.3837 - val_precision: 0.8975 - val_recall: 0.8975\n",
      "Epoch 8/100\n",
      "\u001B[1m113/113\u001B[0m \u001B[32m━━━━━━━━━━━━━━━━━━━━\u001B[0m\u001B[37m\u001B[0m \u001B[1m81s\u001B[0m 572ms/step - accuracy: 0.9805 - loss: 0.0608 - precision: 0.9805 - recall: 0.9805 - val_accuracy: 0.8925 - val_loss: 0.3658 - val_precision: 0.8925 - val_recall: 0.8925\n",
      "Epoch 9/100\n",
      "\u001B[1m113/113\u001B[0m \u001B[32m━━━━━━━━━━━━━━━━━━━━\u001B[0m\u001B[37m\u001B[0m \u001B[1m82s\u001B[0m 571ms/step - accuracy: 0.9594 - loss: 0.1320 - precision: 0.9594 - recall: 0.9594 - val_accuracy: 0.9100 - val_loss: 1.8551 - val_precision: 0.9100 - val_recall: 0.9100\n",
      "Epoch 10/100\n",
      "\u001B[1m113/113\u001B[0m \u001B[32m━━━━━━━━━━━━━━━━━━━━\u001B[0m\u001B[37m\u001B[0m \u001B[1m64s\u001B[0m 566ms/step - accuracy: 0.9706 - loss: 0.1782 - precision: 0.9706 - recall: 0.9706 - val_accuracy: 0.5575 - val_loss: 769727731335168.0000 - val_precision: 0.5575 - val_recall: 0.5575\n",
      "Epoch 11/100\n",
      "\u001B[1m113/113\u001B[0m \u001B[32m━━━━━━━━━━━━━━━━━━━━\u001B[0m\u001B[37m\u001B[0m \u001B[1m64s\u001B[0m 564ms/step - accuracy: 0.9014 - loss: 0.2521 - precision: 0.9014 - recall: 0.9014 - val_accuracy: 0.9000 - val_loss: 3921.0413 - val_precision: 0.9000 - val_recall: 0.9000\n",
      "Epoch 12/100\n",
      "\u001B[1m113/113\u001B[0m \u001B[32m━━━━━━━━━━━━━━━━━━━━\u001B[0m\u001B[37m\u001B[0m \u001B[1m83s\u001B[0m 570ms/step - accuracy: 0.9623 - loss: 0.1144 - precision: 0.9623 - recall: 0.9623 - val_accuracy: 0.9150 - val_loss: 0.7104 - val_precision: 0.9150 - val_recall: 0.9150\n"
     ]
    }
   ],
   "execution_count": 23
  },
  {
   "cell_type": "code",
   "execution_count": 24,
   "id": "vBgWU1GCsL7V",
   "metadata": {
    "id": "vBgWU1GCsL7V"
   },
   "outputs": [],
   "source": [
    "model.save(\"Smile_Detector_Model_InceptionResNetV2.keras\")"
   ]
  },
  {
   "cell_type": "code",
   "execution_count": 25,
   "id": "-m_a24yKtHrs",
   "metadata": {
    "id": "-m_a24yKtHrs"
   },
   "outputs": [],
   "source": [
    "model = keras.saving.load_model(\"Smile_Detector_Model_InceptionResNetV2.keras\")"
   ]
  },
  {
   "cell_type": "code",
   "execution_count": 29,
   "id": "ntoVSa9-xx3Z",
   "metadata": {
    "colab": {
     "base_uri": "https://localhost:8080/"
    },
    "id": "ntoVSa9-xx3Z",
    "outputId": "7cc681e0-c7b8-4258-f8de-33db615c4a4b"
   },
   "outputs": [
    {
     "output_type": "stream",
     "name": "stdout",
     "text": [
      "\u001B[1m13/13\u001B[0m \u001B[32m━━━━━━━━━━━━━━━━━━━━\u001B[0m\u001B[37m\u001B[0m \u001B[1m2s\u001B[0m 181ms/step - accuracy: 0.9402 - loss: 0.2339 - precision: 0.9402 - recall: 0.9402\n"
     ]
    },
    {
     "output_type": "execute_result",
     "data": {
      "text/plain": [
       "[0.21867485344409943,\n",
       " 0.9424999952316284,\n",
       " 0.9424999952316284,\n",
       " 0.9424999952316284]"
      ]
     },
     "metadata": {},
     "execution_count": 29
    }
   ],
   "source": [
    "model.evaluate(val_dataset_preprocess)"
   ]
  },
  {
   "cell_type": "code",
   "source": [
    "predictions = model.predict(val_dataset_preprocess)\n",
    "predicted_classes = np.argmax(predictions, axis=1)\n",
    "\n",
    "true_labels = np.concatenate([y for x, y in val_dataset_preprocess], axis=0)\n",
    "true_classes = np.argmax(true_labels, axis=1)"
   ],
   "metadata": {
    "colab": {
     "base_uri": "https://localhost:8080/"
    },
    "id": "91AfQ4kLDhMV",
    "outputId": "8d5ca72b-d6e5-479b-d6ba-4adfe8eb7eea"
   },
   "id": "91AfQ4kLDhMV",
   "execution_count": 30,
   "outputs": [
    {
     "output_type": "stream",
     "name": "stdout",
     "text": [
      "\u001B[1m13/13\u001B[0m \u001B[32m━━━━━━━━━━━━━━━━━━━━\u001B[0m\u001B[37m\u001B[0m \u001B[1m29s\u001B[0m 1s/step\n"
     ]
    }
   ]
  },
  {
   "cell_type": "code",
   "source": [
    "from sklearn.metrics import confusion_matrix, ConfusionMatrixDisplay\n",
    "\n",
    "cm = confusion_matrix(true_classes, predicted_classes)\n",
    "fig, ax = plt.subplots(figsize=(8, 8))\n",
    "ConfusionMatrixDisplay(cm, display_labels=class_names).plot(cmap='Blues', ax=ax)\n",
    "plt.title('Confusion Matrix')\n",
    "plt.xlabel('Predicted Labels')\n",
    "plt.ylabel('True Labels')\n",
    "plt.show()"
   ],
   "metadata": {
    "colab": {
     "base_uri": "https://localhost:8080/",
     "height": 678
    },
    "id": "9_15upeqH-8v",
    "outputId": "9dfd1029-5bc8-4e68-eec8-e893d5c040bb"
   },
   "id": "9_15upeqH-8v",
   "execution_count": 32,
   "outputs": [
    {
     "output_type": "display_data",
     "data": {
      "text/plain": [
       "<Figure size 800x800 with 2 Axes>"
      ],
      "image/png": "[encoded data removed]"
     },
     "metadata": {}
    }
   ]
  },
  {
   "cell_type": "code",
   "source": [],
   "metadata": {
    "id": "VW6CPIDqISWe"
   },
   "id": "VW6CPIDqISWe",
   "execution_count": null,
   "outputs": []
  }
 ],
 "metadata": {
  "colab": {
   "provenance": [],
   "gpuType": "T4"
  },
  "kernelspec": {
   "display_name": "Python 3 (ipykernel)",
   "name": "python3",
   "language": "python"
  },
  "language_info": {
   "codemirror_mode": {
    "name": "ipython",
    "version": 3
   },
   "file_extension": ".py",
   "mimetype": "text/x-python",
   "name": "python",
   "nbconvert_exporter": "python",
   "pygments_lexer": "ipython3",
   "version": "3.12.4"
  },
  "accelerator": "GPU"
 },
 "nbformat": 4,
 "nbformat_minor": 5
}
